{
 "cells": [
  {
   "cell_type": "code",
   "execution_count": 1,
   "id": "fb756883",
   "metadata": {
    "execution": {
     "iopub.execute_input": "2022-10-25T21:56:53.035157Z",
     "iopub.status.busy": "2022-10-25T21:56:53.034701Z",
     "iopub.status.idle": "2022-10-25T21:56:54.441227Z",
     "shell.execute_reply": "2022-10-25T21:56:54.439665Z"
    },
    "papermill": {
     "duration": 1.423207,
     "end_time": "2022-10-25T21:56:54.446335",
     "exception": false,
     "start_time": "2022-10-25T21:56:53.023128",
     "status": "completed"
    },
    "tags": []
   },
   "outputs": [],
   "source": [
    "# Import library for exploring dataset\n",
    "import pandas as pd \n",
    "import numpy as np\n",
    "import matplotlib.pyplot as plt\n",
    "import seaborn as sns"
   ]
  },
  {
   "cell_type": "markdown",
   "id": "85bdc59d",
   "metadata": {
    "papermill": {
     "duration": 0.008401,
     "end_time": "2022-10-25T21:56:54.465775",
     "exception": false,
     "start_time": "2022-10-25T21:56:54.457374",
     "status": "completed"
    },
    "tags": []
   },
   "source": [
    "  <font size=\"+2\">**Importing Data Set**</font>"
   ]
  },
  {
   "cell_type": "markdown",
   "id": "82c3faa0",
   "metadata": {
    "papermill": {
     "duration": 0.009411,
     "end_time": "2022-10-25T21:56:54.483834",
     "exception": false,
     "start_time": "2022-10-25T21:56:54.474423",
     "status": "completed"
    },
    "tags": []
   },
   "source": [
    "The objective being the prediction of prices for different real estate values, we will be tailoring our data around that."
   ]
  },
  {
   "cell_type": "code",
   "execution_count": 2,
   "id": "8d295f65",
   "metadata": {
    "execution": {
     "iopub.execute_input": "2022-10-25T21:56:54.504111Z",
     "iopub.status.busy": "2022-10-25T21:56:54.503664Z",
     "iopub.status.idle": "2022-10-25T21:56:56.415864Z",
     "shell.execute_reply": "2022-10-25T21:56:56.414851Z"
    },
    "papermill": {
     "duration": 1.925573,
     "end_time": "2022-10-25T21:56:56.418624",
     "exception": false,
     "start_time": "2022-10-25T21:56:54.493051",
     "status": "completed"
    },
    "tags": []
   },
   "outputs": [
    {
     "data": {
      "text/html": [
       "<div>\n",
       "<style scoped>\n",
       "    .dataframe tbody tr th:only-of-type {\n",
       "        vertical-align: middle;\n",
       "    }\n",
       "\n",
       "    .dataframe tbody tr th {\n",
       "        vertical-align: top;\n",
       "    }\n",
       "\n",
       "    .dataframe thead th {\n",
       "        text-align: right;\n",
       "    }\n",
       "</style>\n",
       "<table border=\"1\" class=\"dataframe\">\n",
       "  <thead>\n",
       "    <tr style=\"text-align: right;\">\n",
       "      <th></th>\n",
       "      <th>date</th>\n",
       "      <th>price</th>\n",
       "      <th>bedrooms</th>\n",
       "      <th>bathrooms</th>\n",
       "      <th>sqft_living</th>\n",
       "      <th>sqft_lot</th>\n",
       "      <th>floors</th>\n",
       "      <th>waterfront</th>\n",
       "      <th>view</th>\n",
       "      <th>condition</th>\n",
       "      <th>sqft_above</th>\n",
       "      <th>sqft_basement</th>\n",
       "      <th>yr_built</th>\n",
       "      <th>yr_renovated</th>\n",
       "      <th>street</th>\n",
       "      <th>city</th>\n",
       "      <th>statezip</th>\n",
       "      <th>country</th>\n",
       "    </tr>\n",
       "  </thead>\n",
       "  <tbody>\n",
       "    <tr>\n",
       "      <th>0</th>\n",
       "      <td>2014-05-02</td>\n",
       "      <td>313000.0</td>\n",
       "      <td>3</td>\n",
       "      <td>1.50</td>\n",
       "      <td>1340</td>\n",
       "      <td>7912</td>\n",
       "      <td>1.5</td>\n",
       "      <td>0</td>\n",
       "      <td>0</td>\n",
       "      <td>3</td>\n",
       "      <td>1340</td>\n",
       "      <td>0</td>\n",
       "      <td>1955</td>\n",
       "      <td>2005</td>\n",
       "      <td>18810 Densmore Ave N</td>\n",
       "      <td>Shoreline</td>\n",
       "      <td>WA 98133</td>\n",
       "      <td>USA</td>\n",
       "    </tr>\n",
       "    <tr>\n",
       "      <th>1</th>\n",
       "      <td>2014-05-02</td>\n",
       "      <td>2384000.0</td>\n",
       "      <td>5</td>\n",
       "      <td>2.50</td>\n",
       "      <td>3650</td>\n",
       "      <td>9050</td>\n",
       "      <td>2.0</td>\n",
       "      <td>0</td>\n",
       "      <td>4</td>\n",
       "      <td>5</td>\n",
       "      <td>3370</td>\n",
       "      <td>280</td>\n",
       "      <td>1921</td>\n",
       "      <td>0</td>\n",
       "      <td>709 W Blaine St</td>\n",
       "      <td>Seattle</td>\n",
       "      <td>WA 98119</td>\n",
       "      <td>USA</td>\n",
       "    </tr>\n",
       "    <tr>\n",
       "      <th>2</th>\n",
       "      <td>2014-05-02</td>\n",
       "      <td>342000.0</td>\n",
       "      <td>3</td>\n",
       "      <td>2.00</td>\n",
       "      <td>1930</td>\n",
       "      <td>11947</td>\n",
       "      <td>1.0</td>\n",
       "      <td>0</td>\n",
       "      <td>0</td>\n",
       "      <td>4</td>\n",
       "      <td>1930</td>\n",
       "      <td>0</td>\n",
       "      <td>1966</td>\n",
       "      <td>0</td>\n",
       "      <td>26206-26214 143rd Ave SE</td>\n",
       "      <td>Kent</td>\n",
       "      <td>WA 98042</td>\n",
       "      <td>USA</td>\n",
       "    </tr>\n",
       "    <tr>\n",
       "      <th>3</th>\n",
       "      <td>2014-05-02</td>\n",
       "      <td>420000.0</td>\n",
       "      <td>3</td>\n",
       "      <td>2.25</td>\n",
       "      <td>2000</td>\n",
       "      <td>8030</td>\n",
       "      <td>1.0</td>\n",
       "      <td>0</td>\n",
       "      <td>0</td>\n",
       "      <td>4</td>\n",
       "      <td>1000</td>\n",
       "      <td>1000</td>\n",
       "      <td>1963</td>\n",
       "      <td>0</td>\n",
       "      <td>857 170th Pl NE</td>\n",
       "      <td>Bellevue</td>\n",
       "      <td>WA 98008</td>\n",
       "      <td>USA</td>\n",
       "    </tr>\n",
       "    <tr>\n",
       "      <th>4</th>\n",
       "      <td>2014-05-02</td>\n",
       "      <td>550000.0</td>\n",
       "      <td>4</td>\n",
       "      <td>2.50</td>\n",
       "      <td>1940</td>\n",
       "      <td>10500</td>\n",
       "      <td>1.0</td>\n",
       "      <td>0</td>\n",
       "      <td>0</td>\n",
       "      <td>4</td>\n",
       "      <td>1140</td>\n",
       "      <td>800</td>\n",
       "      <td>1976</td>\n",
       "      <td>1992</td>\n",
       "      <td>9105 170th Ave NE</td>\n",
       "      <td>Redmond</td>\n",
       "      <td>WA 98052</td>\n",
       "      <td>USA</td>\n",
       "    </tr>\n",
       "  </tbody>\n",
       "</table>\n",
       "</div>"
      ],
      "text/plain": [
       "        date      price  bedrooms  bathrooms  sqft_living  sqft_lot  floors  \\\n",
       "0 2014-05-02   313000.0         3       1.50         1340      7912     1.5   \n",
       "1 2014-05-02  2384000.0         5       2.50         3650      9050     2.0   \n",
       "2 2014-05-02   342000.0         3       2.00         1930     11947     1.0   \n",
       "3 2014-05-02   420000.0         3       2.25         2000      8030     1.0   \n",
       "4 2014-05-02   550000.0         4       2.50         1940     10500     1.0   \n",
       "\n",
       "   waterfront  view  condition  sqft_above  sqft_basement  yr_built  \\\n",
       "0           0     0          3        1340              0      1955   \n",
       "1           0     4          5        3370            280      1921   \n",
       "2           0     0          4        1930              0      1966   \n",
       "3           0     0          4        1000           1000      1963   \n",
       "4           0     0          4        1140            800      1976   \n",
       "\n",
       "   yr_renovated                    street       city  statezip country  \n",
       "0          2005      18810 Densmore Ave N  Shoreline  WA 98133     USA  \n",
       "1             0           709 W Blaine St    Seattle  WA 98119     USA  \n",
       "2             0  26206-26214 143rd Ave SE       Kent  WA 98042     USA  \n",
       "3             0           857 170th Pl NE   Bellevue  WA 98008     USA  \n",
       "4          1992         9105 170th Ave NE    Redmond  WA 98052     USA  "
      ]
     },
     "execution_count": 2,
     "metadata": {},
     "output_type": "execute_result"
    }
   ],
   "source": [
    "data = pd.read_excel('../input/AgencyDataset/AgencyDataset.xlsx')\n",
    "data.head()"
   ]
  },
  {
   "cell_type": "code",
   "execution_count": 3,
   "id": "accec370",
   "metadata": {
    "execution": {
     "iopub.execute_input": "2022-10-25T21:56:56.438857Z",
     "iopub.status.busy": "2022-10-25T21:56:56.437904Z",
     "iopub.status.idle": "2022-10-25T21:56:56.506512Z",
     "shell.execute_reply": "2022-10-25T21:56:56.505585Z"
    },
    "papermill": {
     "duration": 0.081168,
     "end_time": "2022-10-25T21:56:56.508978",
     "exception": false,
     "start_time": "2022-10-25T21:56:56.427810",
     "status": "completed"
    },
    "tags": []
   },
   "outputs": [
    {
     "data": {
      "text/html": [
       "<div>\n",
       "<style scoped>\n",
       "    .dataframe tbody tr th:only-of-type {\n",
       "        vertical-align: middle;\n",
       "    }\n",
       "\n",
       "    .dataframe tbody tr th {\n",
       "        vertical-align: top;\n",
       "    }\n",
       "\n",
       "    .dataframe thead th {\n",
       "        text-align: right;\n",
       "    }\n",
       "</style>\n",
       "<table border=\"1\" class=\"dataframe\">\n",
       "  <thead>\n",
       "    <tr style=\"text-align: right;\">\n",
       "      <th></th>\n",
       "      <th>price</th>\n",
       "      <th>bedrooms</th>\n",
       "      <th>bathrooms</th>\n",
       "      <th>sqft_living</th>\n",
       "      <th>sqft_lot</th>\n",
       "      <th>floors</th>\n",
       "      <th>waterfront</th>\n",
       "      <th>view</th>\n",
       "      <th>condition</th>\n",
       "      <th>sqft_above</th>\n",
       "      <th>sqft_basement</th>\n",
       "      <th>yr_built</th>\n",
       "      <th>yr_renovated</th>\n",
       "    </tr>\n",
       "  </thead>\n",
       "  <tbody>\n",
       "    <tr>\n",
       "      <th>count</th>\n",
       "      <td>4.600000e+03</td>\n",
       "      <td>4600.000000</td>\n",
       "      <td>4600.000000</td>\n",
       "      <td>4600.000000</td>\n",
       "      <td>4.600000e+03</td>\n",
       "      <td>4600.000000</td>\n",
       "      <td>4600.000000</td>\n",
       "      <td>4600.000000</td>\n",
       "      <td>4600.000000</td>\n",
       "      <td>4600.000000</td>\n",
       "      <td>4600.000000</td>\n",
       "      <td>4600.000000</td>\n",
       "      <td>4600.000000</td>\n",
       "    </tr>\n",
       "    <tr>\n",
       "      <th>mean</th>\n",
       "      <td>5.519630e+05</td>\n",
       "      <td>3.400870</td>\n",
       "      <td>2.160815</td>\n",
       "      <td>2139.346957</td>\n",
       "      <td>1.485252e+04</td>\n",
       "      <td>1.512065</td>\n",
       "      <td>0.007174</td>\n",
       "      <td>0.240652</td>\n",
       "      <td>3.451739</td>\n",
       "      <td>1827.265435</td>\n",
       "      <td>312.081522</td>\n",
       "      <td>1970.786304</td>\n",
       "      <td>808.608261</td>\n",
       "    </tr>\n",
       "    <tr>\n",
       "      <th>std</th>\n",
       "      <td>5.638347e+05</td>\n",
       "      <td>0.908848</td>\n",
       "      <td>0.783781</td>\n",
       "      <td>963.206916</td>\n",
       "      <td>3.588444e+04</td>\n",
       "      <td>0.538288</td>\n",
       "      <td>0.084404</td>\n",
       "      <td>0.778405</td>\n",
       "      <td>0.677230</td>\n",
       "      <td>862.168977</td>\n",
       "      <td>464.137228</td>\n",
       "      <td>29.731848</td>\n",
       "      <td>979.414536</td>\n",
       "    </tr>\n",
       "    <tr>\n",
       "      <th>min</th>\n",
       "      <td>0.000000e+00</td>\n",
       "      <td>0.000000</td>\n",
       "      <td>0.000000</td>\n",
       "      <td>370.000000</td>\n",
       "      <td>6.380000e+02</td>\n",
       "      <td>1.000000</td>\n",
       "      <td>0.000000</td>\n",
       "      <td>0.000000</td>\n",
       "      <td>1.000000</td>\n",
       "      <td>370.000000</td>\n",
       "      <td>0.000000</td>\n",
       "      <td>1900.000000</td>\n",
       "      <td>0.000000</td>\n",
       "    </tr>\n",
       "    <tr>\n",
       "      <th>25%</th>\n",
       "      <td>3.228750e+05</td>\n",
       "      <td>3.000000</td>\n",
       "      <td>1.750000</td>\n",
       "      <td>1460.000000</td>\n",
       "      <td>5.000750e+03</td>\n",
       "      <td>1.000000</td>\n",
       "      <td>0.000000</td>\n",
       "      <td>0.000000</td>\n",
       "      <td>3.000000</td>\n",
       "      <td>1190.000000</td>\n",
       "      <td>0.000000</td>\n",
       "      <td>1951.000000</td>\n",
       "      <td>0.000000</td>\n",
       "    </tr>\n",
       "    <tr>\n",
       "      <th>50%</th>\n",
       "      <td>4.609435e+05</td>\n",
       "      <td>3.000000</td>\n",
       "      <td>2.250000</td>\n",
       "      <td>1980.000000</td>\n",
       "      <td>7.683000e+03</td>\n",
       "      <td>1.500000</td>\n",
       "      <td>0.000000</td>\n",
       "      <td>0.000000</td>\n",
       "      <td>3.000000</td>\n",
       "      <td>1590.000000</td>\n",
       "      <td>0.000000</td>\n",
       "      <td>1976.000000</td>\n",
       "      <td>0.000000</td>\n",
       "    </tr>\n",
       "    <tr>\n",
       "      <th>75%</th>\n",
       "      <td>6.549625e+05</td>\n",
       "      <td>4.000000</td>\n",
       "      <td>2.500000</td>\n",
       "      <td>2620.000000</td>\n",
       "      <td>1.100125e+04</td>\n",
       "      <td>2.000000</td>\n",
       "      <td>0.000000</td>\n",
       "      <td>0.000000</td>\n",
       "      <td>4.000000</td>\n",
       "      <td>2300.000000</td>\n",
       "      <td>610.000000</td>\n",
       "      <td>1997.000000</td>\n",
       "      <td>1999.000000</td>\n",
       "    </tr>\n",
       "    <tr>\n",
       "      <th>max</th>\n",
       "      <td>2.659000e+07</td>\n",
       "      <td>9.000000</td>\n",
       "      <td>8.000000</td>\n",
       "      <td>13540.000000</td>\n",
       "      <td>1.074218e+06</td>\n",
       "      <td>3.500000</td>\n",
       "      <td>1.000000</td>\n",
       "      <td>4.000000</td>\n",
       "      <td>5.000000</td>\n",
       "      <td>9410.000000</td>\n",
       "      <td>4820.000000</td>\n",
       "      <td>2014.000000</td>\n",
       "      <td>2014.000000</td>\n",
       "    </tr>\n",
       "  </tbody>\n",
       "</table>\n",
       "</div>"
      ],
      "text/plain": [
       "              price     bedrooms    bathrooms   sqft_living      sqft_lot  \\\n",
       "count  4.600000e+03  4600.000000  4600.000000   4600.000000  4.600000e+03   \n",
       "mean   5.519630e+05     3.400870     2.160815   2139.346957  1.485252e+04   \n",
       "std    5.638347e+05     0.908848     0.783781    963.206916  3.588444e+04   \n",
       "min    0.000000e+00     0.000000     0.000000    370.000000  6.380000e+02   \n",
       "25%    3.228750e+05     3.000000     1.750000   1460.000000  5.000750e+03   \n",
       "50%    4.609435e+05     3.000000     2.250000   1980.000000  7.683000e+03   \n",
       "75%    6.549625e+05     4.000000     2.500000   2620.000000  1.100125e+04   \n",
       "max    2.659000e+07     9.000000     8.000000  13540.000000  1.074218e+06   \n",
       "\n",
       "            floors   waterfront         view    condition   sqft_above  \\\n",
       "count  4600.000000  4600.000000  4600.000000  4600.000000  4600.000000   \n",
       "mean      1.512065     0.007174     0.240652     3.451739  1827.265435   \n",
       "std       0.538288     0.084404     0.778405     0.677230   862.168977   \n",
       "min       1.000000     0.000000     0.000000     1.000000   370.000000   \n",
       "25%       1.000000     0.000000     0.000000     3.000000  1190.000000   \n",
       "50%       1.500000     0.000000     0.000000     3.000000  1590.000000   \n",
       "75%       2.000000     0.000000     0.000000     4.000000  2300.000000   \n",
       "max       3.500000     1.000000     4.000000     5.000000  9410.000000   \n",
       "\n",
       "       sqft_basement     yr_built  yr_renovated  \n",
       "count    4600.000000  4600.000000   4600.000000  \n",
       "mean      312.081522  1970.786304    808.608261  \n",
       "std       464.137228    29.731848    979.414536  \n",
       "min         0.000000  1900.000000      0.000000  \n",
       "25%         0.000000  1951.000000      0.000000  \n",
       "50%         0.000000  1976.000000      0.000000  \n",
       "75%       610.000000  1997.000000   1999.000000  \n",
       "max      4820.000000  2014.000000   2014.000000  "
      ]
     },
     "execution_count": 3,
     "metadata": {},
     "output_type": "execute_result"
    }
   ],
   "source": [
    "data.describe()"
   ]
  },
  {
   "cell_type": "code",
   "execution_count": 4,
   "id": "3bcd0027",
   "metadata": {
    "execution": {
     "iopub.execute_input": "2022-10-25T21:56:56.530235Z",
     "iopub.status.busy": "2022-10-25T21:56:56.529451Z",
     "iopub.status.idle": "2022-10-25T21:56:56.552082Z",
     "shell.execute_reply": "2022-10-25T21:56:56.549957Z"
    },
    "papermill": {
     "duration": 0.03721,
     "end_time": "2022-10-25T21:56:56.556582",
     "exception": false,
     "start_time": "2022-10-25T21:56:56.519372",
     "status": "completed"
    },
    "tags": []
   },
   "outputs": [
    {
     "name": "stdout",
     "output_type": "stream",
     "text": [
      "<class 'pandas.core.frame.DataFrame'>\n",
      "RangeIndex: 4600 entries, 0 to 4599\n",
      "Data columns (total 18 columns):\n",
      " #   Column         Non-Null Count  Dtype         \n",
      "---  ------         --------------  -----         \n",
      " 0   date           4600 non-null   datetime64[ns]\n",
      " 1   price          4600 non-null   float64       \n",
      " 2   bedrooms       4600 non-null   int64         \n",
      " 3   bathrooms      4600 non-null   float64       \n",
      " 4   sqft_living    4600 non-null   int64         \n",
      " 5   sqft_lot       4600 non-null   int64         \n",
      " 6   floors         4600 non-null   float64       \n",
      " 7   waterfront     4600 non-null   int64         \n",
      " 8   view           4600 non-null   int64         \n",
      " 9   condition      4600 non-null   int64         \n",
      " 10  sqft_above     4600 non-null   int64         \n",
      " 11  sqft_basement  4600 non-null   int64         \n",
      " 12  yr_built       4600 non-null   int64         \n",
      " 13  yr_renovated   4600 non-null   int64         \n",
      " 14  street         4600 non-null   object        \n",
      " 15  city           4600 non-null   object        \n",
      " 16  statezip       4600 non-null   object        \n",
      " 17  country        4600 non-null   object        \n",
      "dtypes: datetime64[ns](1), float64(3), int64(10), object(4)\n",
      "memory usage: 647.0+ KB\n"
     ]
    }
   ],
   "source": [
    "data.info()"
   ]
  },
  {
   "cell_type": "code",
   "execution_count": 5,
   "id": "cd3a3b7d",
   "metadata": {
    "execution": {
     "iopub.execute_input": "2022-10-25T21:56:56.577402Z",
     "iopub.status.busy": "2022-10-25T21:56:56.577005Z",
     "iopub.status.idle": "2022-10-25T21:56:56.595413Z",
     "shell.execute_reply": "2022-10-25T21:56:56.593719Z"
    },
    "papermill": {
     "duration": 0.032145,
     "end_time": "2022-10-25T21:56:56.598412",
     "exception": false,
     "start_time": "2022-10-25T21:56:56.566267",
     "status": "completed"
    },
    "tags": []
   },
   "outputs": [
    {
     "name": "stdout",
     "output_type": "stream",
     "text": [
      "Number of duplicate rows:  0\n"
     ]
    }
   ],
   "source": [
    "# Check for duplicated rows\n",
    "print(\"Number of duplicate rows: \", sum(data.duplicated()))"
   ]
  },
  {
   "cell_type": "markdown",
   "id": "db8bba73",
   "metadata": {
    "papermill": {
     "duration": 0.009089,
     "end_time": "2022-10-25T21:56:56.617605",
     "exception": false,
     "start_time": "2022-10-25T21:56:56.608516",
     "status": "completed"
    },
    "tags": []
   },
   "source": [
    "  <font size=\"+2\">**Data Cleaning**</font>"
   ]
  },
  {
   "cell_type": "markdown",
   "id": "db45579b",
   "metadata": {
    "papermill": {
     "duration": 0.00886,
     "end_time": "2022-10-25T21:56:56.635601",
     "exception": false,
     "start_time": "2022-10-25T21:56:56.626741",
     "status": "completed"
    },
    "tags": []
   },
   "source": [
    "First & foremost, check for na data."
   ]
  },
  {
   "cell_type": "code",
   "execution_count": 6,
   "id": "58e82791",
   "metadata": {
    "execution": {
     "iopub.execute_input": "2022-10-25T21:56:56.670567Z",
     "iopub.status.busy": "2022-10-25T21:56:56.670128Z",
     "iopub.status.idle": "2022-10-25T21:56:56.689014Z",
     "shell.execute_reply": "2022-10-25T21:56:56.685738Z"
    },
    "papermill": {
     "duration": 0.044539,
     "end_time": "2022-10-25T21:56:56.693156",
     "exception": false,
     "start_time": "2022-10-25T21:56:56.648617",
     "status": "completed"
    },
    "tags": []
   },
   "outputs": [
    {
     "data": {
      "text/plain": [
       "date             0\n",
       "price            0\n",
       "bedrooms         0\n",
       "bathrooms        0\n",
       "sqft_living      0\n",
       "sqft_lot         0\n",
       "floors           0\n",
       "waterfront       0\n",
       "view             0\n",
       "condition        0\n",
       "sqft_above       0\n",
       "sqft_basement    0\n",
       "yr_built         0\n",
       "yr_renovated     0\n",
       "street           0\n",
       "city             0\n",
       "statezip         0\n",
       "country          0\n",
       "dtype: int64"
      ]
     },
     "execution_count": 6,
     "metadata": {},
     "output_type": "execute_result"
    }
   ],
   "source": [
    "data.isna().sum()\n",
    "#Value might change after encoding object types"
   ]
  },
  {
   "cell_type": "markdown",
   "id": "b8fad98d",
   "metadata": {
    "papermill": {
     "duration": 0.01302,
     "end_time": "2022-10-25T21:56:56.723688",
     "exception": false,
     "start_time": "2022-10-25T21:56:56.710668",
     "status": "completed"
    },
    "tags": []
   },
   "source": [
    "We will be dropping the date collumn from the Data as it's irrelevent to the price prediction!"
   ]
  },
  {
   "cell_type": "code",
   "execution_count": 7,
   "id": "8979df80",
   "metadata": {
    "execution": {
     "iopub.execute_input": "2022-10-25T21:56:56.761799Z",
     "iopub.status.busy": "2022-10-25T21:56:56.761343Z",
     "iopub.status.idle": "2022-10-25T21:56:56.796259Z",
     "shell.execute_reply": "2022-10-25T21:56:56.795015Z"
    },
    "papermill": {
     "duration": 0.053757,
     "end_time": "2022-10-25T21:56:56.798880",
     "exception": false,
     "start_time": "2022-10-25T21:56:56.745123",
     "status": "completed"
    },
    "tags": []
   },
   "outputs": [
    {
     "data": {
      "text/html": [
       "<div>\n",
       "<style scoped>\n",
       "    .dataframe tbody tr th:only-of-type {\n",
       "        vertical-align: middle;\n",
       "    }\n",
       "\n",
       "    .dataframe tbody tr th {\n",
       "        vertical-align: top;\n",
       "    }\n",
       "\n",
       "    .dataframe thead th {\n",
       "        text-align: right;\n",
       "    }\n",
       "</style>\n",
       "<table border=\"1\" class=\"dataframe\">\n",
       "  <thead>\n",
       "    <tr style=\"text-align: right;\">\n",
       "      <th></th>\n",
       "      <th>price</th>\n",
       "      <th>bedrooms</th>\n",
       "      <th>bathrooms</th>\n",
       "      <th>sqft_living</th>\n",
       "      <th>sqft_lot</th>\n",
       "      <th>floors</th>\n",
       "      <th>waterfront</th>\n",
       "      <th>view</th>\n",
       "      <th>condition</th>\n",
       "      <th>sqft_above</th>\n",
       "      <th>sqft_basement</th>\n",
       "      <th>yr_built</th>\n",
       "      <th>yr_renovated</th>\n",
       "      <th>street</th>\n",
       "      <th>city</th>\n",
       "      <th>statezip</th>\n",
       "      <th>country</th>\n",
       "    </tr>\n",
       "  </thead>\n",
       "  <tbody>\n",
       "    <tr>\n",
       "      <th>0</th>\n",
       "      <td>313000.0</td>\n",
       "      <td>3</td>\n",
       "      <td>1.50</td>\n",
       "      <td>1340</td>\n",
       "      <td>7912</td>\n",
       "      <td>1.5</td>\n",
       "      <td>0</td>\n",
       "      <td>0</td>\n",
       "      <td>3</td>\n",
       "      <td>1340</td>\n",
       "      <td>0</td>\n",
       "      <td>1955</td>\n",
       "      <td>2005</td>\n",
       "      <td>18810 Densmore Ave N</td>\n",
       "      <td>Shoreline</td>\n",
       "      <td>WA 98133</td>\n",
       "      <td>USA</td>\n",
       "    </tr>\n",
       "    <tr>\n",
       "      <th>1</th>\n",
       "      <td>2384000.0</td>\n",
       "      <td>5</td>\n",
       "      <td>2.50</td>\n",
       "      <td>3650</td>\n",
       "      <td>9050</td>\n",
       "      <td>2.0</td>\n",
       "      <td>0</td>\n",
       "      <td>4</td>\n",
       "      <td>5</td>\n",
       "      <td>3370</td>\n",
       "      <td>280</td>\n",
       "      <td>1921</td>\n",
       "      <td>0</td>\n",
       "      <td>709 W Blaine St</td>\n",
       "      <td>Seattle</td>\n",
       "      <td>WA 98119</td>\n",
       "      <td>USA</td>\n",
       "    </tr>\n",
       "    <tr>\n",
       "      <th>2</th>\n",
       "      <td>342000.0</td>\n",
       "      <td>3</td>\n",
       "      <td>2.00</td>\n",
       "      <td>1930</td>\n",
       "      <td>11947</td>\n",
       "      <td>1.0</td>\n",
       "      <td>0</td>\n",
       "      <td>0</td>\n",
       "      <td>4</td>\n",
       "      <td>1930</td>\n",
       "      <td>0</td>\n",
       "      <td>1966</td>\n",
       "      <td>0</td>\n",
       "      <td>26206-26214 143rd Ave SE</td>\n",
       "      <td>Kent</td>\n",
       "      <td>WA 98042</td>\n",
       "      <td>USA</td>\n",
       "    </tr>\n",
       "    <tr>\n",
       "      <th>3</th>\n",
       "      <td>420000.0</td>\n",
       "      <td>3</td>\n",
       "      <td>2.25</td>\n",
       "      <td>2000</td>\n",
       "      <td>8030</td>\n",
       "      <td>1.0</td>\n",
       "      <td>0</td>\n",
       "      <td>0</td>\n",
       "      <td>4</td>\n",
       "      <td>1000</td>\n",
       "      <td>1000</td>\n",
       "      <td>1963</td>\n",
       "      <td>0</td>\n",
       "      <td>857 170th Pl NE</td>\n",
       "      <td>Bellevue</td>\n",
       "      <td>WA 98008</td>\n",
       "      <td>USA</td>\n",
       "    </tr>\n",
       "    <tr>\n",
       "      <th>4</th>\n",
       "      <td>550000.0</td>\n",
       "      <td>4</td>\n",
       "      <td>2.50</td>\n",
       "      <td>1940</td>\n",
       "      <td>10500</td>\n",
       "      <td>1.0</td>\n",
       "      <td>0</td>\n",
       "      <td>0</td>\n",
       "      <td>4</td>\n",
       "      <td>1140</td>\n",
       "      <td>800</td>\n",
       "      <td>1976</td>\n",
       "      <td>1992</td>\n",
       "      <td>9105 170th Ave NE</td>\n",
       "      <td>Redmond</td>\n",
       "      <td>WA 98052</td>\n",
       "      <td>USA</td>\n",
       "    </tr>\n",
       "  </tbody>\n",
       "</table>\n",
       "</div>"
      ],
      "text/plain": [
       "       price  bedrooms  bathrooms  sqft_living  sqft_lot  floors  waterfront  \\\n",
       "0   313000.0         3       1.50         1340      7912     1.5           0   \n",
       "1  2384000.0         5       2.50         3650      9050     2.0           0   \n",
       "2   342000.0         3       2.00         1930     11947     1.0           0   \n",
       "3   420000.0         3       2.25         2000      8030     1.0           0   \n",
       "4   550000.0         4       2.50         1940     10500     1.0           0   \n",
       "\n",
       "   view  condition  sqft_above  sqft_basement  yr_built  yr_renovated  \\\n",
       "0     0          3        1340              0      1955          2005   \n",
       "1     4          5        3370            280      1921             0   \n",
       "2     0          4        1930              0      1966             0   \n",
       "3     0          4        1000           1000      1963             0   \n",
       "4     0          4        1140            800      1976          1992   \n",
       "\n",
       "                     street       city  statezip country  \n",
       "0      18810 Densmore Ave N  Shoreline  WA 98133     USA  \n",
       "1           709 W Blaine St    Seattle  WA 98119     USA  \n",
       "2  26206-26214 143rd Ave SE       Kent  WA 98042     USA  \n",
       "3           857 170th Pl NE   Bellevue  WA 98008     USA  \n",
       "4         9105 170th Ave NE    Redmond  WA 98052     USA  "
      ]
     },
     "execution_count": 7,
     "metadata": {},
     "output_type": "execute_result"
    }
   ],
   "source": [
    "data = data.drop(['date'], axis = 1)\n",
    "data.head()"
   ]
  },
  {
   "cell_type": "code",
   "execution_count": 8,
   "id": "aebfb3ff",
   "metadata": {
    "execution": {
     "iopub.execute_input": "2022-10-25T21:56:56.820773Z",
     "iopub.status.busy": "2022-10-25T21:56:56.820296Z",
     "iopub.status.idle": "2022-10-25T21:56:56.829341Z",
     "shell.execute_reply": "2022-10-25T21:56:56.828392Z"
    },
    "papermill": {
     "duration": 0.023039,
     "end_time": "2022-10-25T21:56:56.831665",
     "exception": false,
     "start_time": "2022-10-25T21:56:56.808626",
     "status": "completed"
    },
    "tags": []
   },
   "outputs": [
    {
     "data": {
      "text/plain": [
       "1"
      ]
     },
     "execution_count": 8,
     "metadata": {},
     "output_type": "execute_result"
    }
   ],
   "source": [
    "data[\"country\"].nunique()"
   ]
  },
  {
   "cell_type": "code",
   "execution_count": 9,
   "id": "29d2f6b6",
   "metadata": {
    "execution": {
     "iopub.execute_input": "2022-10-25T21:56:56.862506Z",
     "iopub.status.busy": "2022-10-25T21:56:56.862043Z",
     "iopub.status.idle": "2022-10-25T21:56:56.910560Z",
     "shell.execute_reply": "2022-10-25T21:56:56.908074Z"
    },
    "papermill": {
     "duration": 0.066814,
     "end_time": "2022-10-25T21:56:56.913662",
     "exception": false,
     "start_time": "2022-10-25T21:56:56.846848",
     "status": "completed"
    },
    "tags": []
   },
   "outputs": [
    {
     "data": {
      "text/html": [
       "<div>\n",
       "<style scoped>\n",
       "    .dataframe tbody tr th:only-of-type {\n",
       "        vertical-align: middle;\n",
       "    }\n",
       "\n",
       "    .dataframe tbody tr th {\n",
       "        vertical-align: top;\n",
       "    }\n",
       "\n",
       "    .dataframe thead th {\n",
       "        text-align: right;\n",
       "    }\n",
       "</style>\n",
       "<table border=\"1\" class=\"dataframe\">\n",
       "  <thead>\n",
       "    <tr style=\"text-align: right;\">\n",
       "      <th></th>\n",
       "      <th>price</th>\n",
       "      <th>bedrooms</th>\n",
       "      <th>bathrooms</th>\n",
       "      <th>sqft_living</th>\n",
       "      <th>sqft_lot</th>\n",
       "      <th>floors</th>\n",
       "      <th>waterfront</th>\n",
       "      <th>view</th>\n",
       "      <th>condition</th>\n",
       "      <th>sqft_above</th>\n",
       "      <th>sqft_basement</th>\n",
       "      <th>yr_built</th>\n",
       "      <th>yr_renovated</th>\n",
       "      <th>street</th>\n",
       "      <th>city</th>\n",
       "      <th>statezip</th>\n",
       "      <th>country</th>\n",
       "      <th>state</th>\n",
       "      <th>zip_code</th>\n",
       "    </tr>\n",
       "  </thead>\n",
       "  <tbody>\n",
       "    <tr>\n",
       "      <th>0</th>\n",
       "      <td>313000.0</td>\n",
       "      <td>3</td>\n",
       "      <td>1.50</td>\n",
       "      <td>1340</td>\n",
       "      <td>7912</td>\n",
       "      <td>1.5</td>\n",
       "      <td>0</td>\n",
       "      <td>0</td>\n",
       "      <td>3</td>\n",
       "      <td>1340</td>\n",
       "      <td>0</td>\n",
       "      <td>1955</td>\n",
       "      <td>2005</td>\n",
       "      <td>18810 Densmore Ave N</td>\n",
       "      <td>Shoreline</td>\n",
       "      <td>WA 98133</td>\n",
       "      <td>USA</td>\n",
       "      <td>WA</td>\n",
       "      <td>98133</td>\n",
       "    </tr>\n",
       "    <tr>\n",
       "      <th>1</th>\n",
       "      <td>2384000.0</td>\n",
       "      <td>5</td>\n",
       "      <td>2.50</td>\n",
       "      <td>3650</td>\n",
       "      <td>9050</td>\n",
       "      <td>2.0</td>\n",
       "      <td>0</td>\n",
       "      <td>4</td>\n",
       "      <td>5</td>\n",
       "      <td>3370</td>\n",
       "      <td>280</td>\n",
       "      <td>1921</td>\n",
       "      <td>0</td>\n",
       "      <td>709 W Blaine St</td>\n",
       "      <td>Seattle</td>\n",
       "      <td>WA 98119</td>\n",
       "      <td>USA</td>\n",
       "      <td>WA</td>\n",
       "      <td>98119</td>\n",
       "    </tr>\n",
       "    <tr>\n",
       "      <th>2</th>\n",
       "      <td>342000.0</td>\n",
       "      <td>3</td>\n",
       "      <td>2.00</td>\n",
       "      <td>1930</td>\n",
       "      <td>11947</td>\n",
       "      <td>1.0</td>\n",
       "      <td>0</td>\n",
       "      <td>0</td>\n",
       "      <td>4</td>\n",
       "      <td>1930</td>\n",
       "      <td>0</td>\n",
       "      <td>1966</td>\n",
       "      <td>0</td>\n",
       "      <td>26206-26214 143rd Ave SE</td>\n",
       "      <td>Kent</td>\n",
       "      <td>WA 98042</td>\n",
       "      <td>USA</td>\n",
       "      <td>WA</td>\n",
       "      <td>98042</td>\n",
       "    </tr>\n",
       "    <tr>\n",
       "      <th>3</th>\n",
       "      <td>420000.0</td>\n",
       "      <td>3</td>\n",
       "      <td>2.25</td>\n",
       "      <td>2000</td>\n",
       "      <td>8030</td>\n",
       "      <td>1.0</td>\n",
       "      <td>0</td>\n",
       "      <td>0</td>\n",
       "      <td>4</td>\n",
       "      <td>1000</td>\n",
       "      <td>1000</td>\n",
       "      <td>1963</td>\n",
       "      <td>0</td>\n",
       "      <td>857 170th Pl NE</td>\n",
       "      <td>Bellevue</td>\n",
       "      <td>WA 98008</td>\n",
       "      <td>USA</td>\n",
       "      <td>WA</td>\n",
       "      <td>98008</td>\n",
       "    </tr>\n",
       "    <tr>\n",
       "      <th>4</th>\n",
       "      <td>550000.0</td>\n",
       "      <td>4</td>\n",
       "      <td>2.50</td>\n",
       "      <td>1940</td>\n",
       "      <td>10500</td>\n",
       "      <td>1.0</td>\n",
       "      <td>0</td>\n",
       "      <td>0</td>\n",
       "      <td>4</td>\n",
       "      <td>1140</td>\n",
       "      <td>800</td>\n",
       "      <td>1976</td>\n",
       "      <td>1992</td>\n",
       "      <td>9105 170th Ave NE</td>\n",
       "      <td>Redmond</td>\n",
       "      <td>WA 98052</td>\n",
       "      <td>USA</td>\n",
       "      <td>WA</td>\n",
       "      <td>98052</td>\n",
       "    </tr>\n",
       "  </tbody>\n",
       "</table>\n",
       "</div>"
      ],
      "text/plain": [
       "       price  bedrooms  bathrooms  sqft_living  sqft_lot  floors  waterfront  \\\n",
       "0   313000.0         3       1.50         1340      7912     1.5           0   \n",
       "1  2384000.0         5       2.50         3650      9050     2.0           0   \n",
       "2   342000.0         3       2.00         1930     11947     1.0           0   \n",
       "3   420000.0         3       2.25         2000      8030     1.0           0   \n",
       "4   550000.0         4       2.50         1940     10500     1.0           0   \n",
       "\n",
       "   view  condition  sqft_above  sqft_basement  yr_built  yr_renovated  \\\n",
       "0     0          3        1340              0      1955          2005   \n",
       "1     4          5        3370            280      1921             0   \n",
       "2     0          4        1930              0      1966             0   \n",
       "3     0          4        1000           1000      1963             0   \n",
       "4     0          4        1140            800      1976          1992   \n",
       "\n",
       "                     street       city  statezip country state zip_code  \n",
       "0      18810 Densmore Ave N  Shoreline  WA 98133     USA    WA    98133  \n",
       "1           709 W Blaine St    Seattle  WA 98119     USA    WA    98119  \n",
       "2  26206-26214 143rd Ave SE       Kent  WA 98042     USA    WA    98042  \n",
       "3           857 170th Pl NE   Bellevue  WA 98008     USA    WA    98008  \n",
       "4         9105 170th Ave NE    Redmond  WA 98052     USA    WA    98052  "
      ]
     },
     "execution_count": 9,
     "metadata": {},
     "output_type": "execute_result"
    }
   ],
   "source": [
    "data[['state','zip_code']] = data.statezip.str.split(\" \",expand=True,)\n",
    "data['state'].nunique()\n",
    "data.head()"
   ]
  },
  {
   "cell_type": "markdown",
   "id": "88b6ced3",
   "metadata": {
    "papermill": {
     "duration": 0.012438,
     "end_time": "2022-10-25T21:56:56.937516",
     "exception": false,
     "start_time": "2022-10-25T21:56:56.925078",
     "status": "completed"
    },
    "tags": []
   },
   "source": [
    "As we checked, country only possessed 1 value so we're gonna drop it.\n",
    "Seperating statezip into 2 features also shows that WA is the only state we're working with here so we're gonna keep just the numerical value to avoid having to encode it.\n",
    "We're also dropping the street collumn as it seems irrelevent."
   ]
  },
  {
   "cell_type": "code",
   "execution_count": 10,
   "id": "0b75655c",
   "metadata": {
    "execution": {
     "iopub.execute_input": "2022-10-25T21:56:56.970129Z",
     "iopub.status.busy": "2022-10-25T21:56:56.969647Z",
     "iopub.status.idle": "2022-10-25T21:56:56.978462Z",
     "shell.execute_reply": "2022-10-25T21:56:56.976952Z"
    },
    "papermill": {
     "duration": 0.032232,
     "end_time": "2022-10-25T21:56:56.983555",
     "exception": false,
     "start_time": "2022-10-25T21:56:56.951323",
     "status": "completed"
    },
    "tags": []
   },
   "outputs": [],
   "source": [
    "data=data.drop(['country','state','statezip'],axis=1)\n"
   ]
  },
  {
   "cell_type": "code",
   "execution_count": 11,
   "id": "228ba475",
   "metadata": {
    "execution": {
     "iopub.execute_input": "2022-10-25T21:56:57.009972Z",
     "iopub.status.busy": "2022-10-25T21:56:57.009518Z",
     "iopub.status.idle": "2022-10-25T21:56:57.017595Z",
     "shell.execute_reply": "2022-10-25T21:56:57.016420Z"
    },
    "papermill": {
     "duration": 0.027639,
     "end_time": "2022-10-25T21:56:57.022861",
     "exception": false,
     "start_time": "2022-10-25T21:56:56.995222",
     "status": "completed"
    },
    "tags": []
   },
   "outputs": [],
   "source": [
    "data=data.drop(['street'],axis=1)\n"
   ]
  },
  {
   "cell_type": "code",
   "execution_count": 12,
   "id": "f5e8d266",
   "metadata": {
    "execution": {
     "iopub.execute_input": "2022-10-25T21:56:57.056036Z",
     "iopub.status.busy": "2022-10-25T21:56:57.055337Z",
     "iopub.status.idle": "2022-10-25T21:56:57.077570Z",
     "shell.execute_reply": "2022-10-25T21:56:57.075833Z"
    },
    "papermill": {
     "duration": 0.043937,
     "end_time": "2022-10-25T21:56:57.081707",
     "exception": false,
     "start_time": "2022-10-25T21:56:57.037770",
     "status": "completed"
    },
    "tags": []
   },
   "outputs": [
    {
     "data": {
      "text/html": [
       "<div>\n",
       "<style scoped>\n",
       "    .dataframe tbody tr th:only-of-type {\n",
       "        vertical-align: middle;\n",
       "    }\n",
       "\n",
       "    .dataframe tbody tr th {\n",
       "        vertical-align: top;\n",
       "    }\n",
       "\n",
       "    .dataframe thead th {\n",
       "        text-align: right;\n",
       "    }\n",
       "</style>\n",
       "<table border=\"1\" class=\"dataframe\">\n",
       "  <thead>\n",
       "    <tr style=\"text-align: right;\">\n",
       "      <th></th>\n",
       "      <th>price</th>\n",
       "      <th>bedrooms</th>\n",
       "      <th>bathrooms</th>\n",
       "      <th>sqft_living</th>\n",
       "      <th>sqft_lot</th>\n",
       "      <th>floors</th>\n",
       "      <th>waterfront</th>\n",
       "      <th>view</th>\n",
       "      <th>condition</th>\n",
       "      <th>sqft_above</th>\n",
       "      <th>sqft_basement</th>\n",
       "      <th>yr_built</th>\n",
       "      <th>yr_renovated</th>\n",
       "      <th>city</th>\n",
       "      <th>zip_code</th>\n",
       "    </tr>\n",
       "  </thead>\n",
       "  <tbody>\n",
       "    <tr>\n",
       "      <th>0</th>\n",
       "      <td>313000.0</td>\n",
       "      <td>3</td>\n",
       "      <td>1.50</td>\n",
       "      <td>1340</td>\n",
       "      <td>7912</td>\n",
       "      <td>1.5</td>\n",
       "      <td>0</td>\n",
       "      <td>0</td>\n",
       "      <td>3</td>\n",
       "      <td>1340</td>\n",
       "      <td>0</td>\n",
       "      <td>1955</td>\n",
       "      <td>2005</td>\n",
       "      <td>Shoreline</td>\n",
       "      <td>98133</td>\n",
       "    </tr>\n",
       "    <tr>\n",
       "      <th>1</th>\n",
       "      <td>2384000.0</td>\n",
       "      <td>5</td>\n",
       "      <td>2.50</td>\n",
       "      <td>3650</td>\n",
       "      <td>9050</td>\n",
       "      <td>2.0</td>\n",
       "      <td>0</td>\n",
       "      <td>4</td>\n",
       "      <td>5</td>\n",
       "      <td>3370</td>\n",
       "      <td>280</td>\n",
       "      <td>1921</td>\n",
       "      <td>0</td>\n",
       "      <td>Seattle</td>\n",
       "      <td>98119</td>\n",
       "    </tr>\n",
       "    <tr>\n",
       "      <th>2</th>\n",
       "      <td>342000.0</td>\n",
       "      <td>3</td>\n",
       "      <td>2.00</td>\n",
       "      <td>1930</td>\n",
       "      <td>11947</td>\n",
       "      <td>1.0</td>\n",
       "      <td>0</td>\n",
       "      <td>0</td>\n",
       "      <td>4</td>\n",
       "      <td>1930</td>\n",
       "      <td>0</td>\n",
       "      <td>1966</td>\n",
       "      <td>0</td>\n",
       "      <td>Kent</td>\n",
       "      <td>98042</td>\n",
       "    </tr>\n",
       "    <tr>\n",
       "      <th>3</th>\n",
       "      <td>420000.0</td>\n",
       "      <td>3</td>\n",
       "      <td>2.25</td>\n",
       "      <td>2000</td>\n",
       "      <td>8030</td>\n",
       "      <td>1.0</td>\n",
       "      <td>0</td>\n",
       "      <td>0</td>\n",
       "      <td>4</td>\n",
       "      <td>1000</td>\n",
       "      <td>1000</td>\n",
       "      <td>1963</td>\n",
       "      <td>0</td>\n",
       "      <td>Bellevue</td>\n",
       "      <td>98008</td>\n",
       "    </tr>\n",
       "    <tr>\n",
       "      <th>4</th>\n",
       "      <td>550000.0</td>\n",
       "      <td>4</td>\n",
       "      <td>2.50</td>\n",
       "      <td>1940</td>\n",
       "      <td>10500</td>\n",
       "      <td>1.0</td>\n",
       "      <td>0</td>\n",
       "      <td>0</td>\n",
       "      <td>4</td>\n",
       "      <td>1140</td>\n",
       "      <td>800</td>\n",
       "      <td>1976</td>\n",
       "      <td>1992</td>\n",
       "      <td>Redmond</td>\n",
       "      <td>98052</td>\n",
       "    </tr>\n",
       "  </tbody>\n",
       "</table>\n",
       "</div>"
      ],
      "text/plain": [
       "       price  bedrooms  bathrooms  sqft_living  sqft_lot  floors  waterfront  \\\n",
       "0   313000.0         3       1.50         1340      7912     1.5           0   \n",
       "1  2384000.0         5       2.50         3650      9050     2.0           0   \n",
       "2   342000.0         3       2.00         1930     11947     1.0           0   \n",
       "3   420000.0         3       2.25         2000      8030     1.0           0   \n",
       "4   550000.0         4       2.50         1940     10500     1.0           0   \n",
       "\n",
       "   view  condition  sqft_above  sqft_basement  yr_built  yr_renovated  \\\n",
       "0     0          3        1340              0      1955          2005   \n",
       "1     4          5        3370            280      1921             0   \n",
       "2     0          4        1930              0      1966             0   \n",
       "3     0          4        1000           1000      1963             0   \n",
       "4     0          4        1140            800      1976          1992   \n",
       "\n",
       "        city zip_code  \n",
       "0  Shoreline    98133  \n",
       "1    Seattle    98119  \n",
       "2       Kent    98042  \n",
       "3   Bellevue    98008  \n",
       "4    Redmond    98052  "
      ]
     },
     "execution_count": 12,
     "metadata": {},
     "output_type": "execute_result"
    }
   ],
   "source": [
    "data.head()"
   ]
  },
  {
   "cell_type": "code",
   "execution_count": 13,
   "id": "b3e7c9f4",
   "metadata": {
    "execution": {
     "iopub.execute_input": "2022-10-25T21:56:57.110378Z",
     "iopub.status.busy": "2022-10-25T21:56:57.109910Z",
     "iopub.status.idle": "2022-10-25T21:56:57.134923Z",
     "shell.execute_reply": "2022-10-25T21:56:57.132708Z"
    },
    "papermill": {
     "duration": 0.043313,
     "end_time": "2022-10-25T21:56:57.139661",
     "exception": false,
     "start_time": "2022-10-25T21:56:57.096348",
     "status": "completed"
    },
    "tags": []
   },
   "outputs": [
    {
     "name": "stdout",
     "output_type": "stream",
     "text": [
      "<class 'pandas.core.frame.DataFrame'>\n",
      "RangeIndex: 4600 entries, 0 to 4599\n",
      "Data columns (total 15 columns):\n",
      " #   Column         Non-Null Count  Dtype  \n",
      "---  ------         --------------  -----  \n",
      " 0   price          4600 non-null   float64\n",
      " 1   bedrooms       4600 non-null   int64  \n",
      " 2   bathrooms      4600 non-null   float64\n",
      " 3   sqft_living    4600 non-null   int64  \n",
      " 4   sqft_lot       4600 non-null   int64  \n",
      " 5   floors         4600 non-null   float64\n",
      " 6   waterfront     4600 non-null   int64  \n",
      " 7   view           4600 non-null   int64  \n",
      " 8   condition      4600 non-null   int64  \n",
      " 9   sqft_above     4600 non-null   int64  \n",
      " 10  sqft_basement  4600 non-null   int64  \n",
      " 11  yr_built       4600 non-null   int64  \n",
      " 12  yr_renovated   4600 non-null   int64  \n",
      " 13  city           4600 non-null   object \n",
      " 14  zip_code       4600 non-null   object \n",
      "dtypes: float64(3), int64(10), object(2)\n",
      "memory usage: 539.2+ KB\n"
     ]
    }
   ],
   "source": [
    "data.info()"
   ]
  },
  {
   "cell_type": "markdown",
   "id": "e558275b",
   "metadata": {
    "papermill": {
     "duration": 0.013675,
     "end_time": "2022-10-25T21:56:57.167755",
     "exception": false,
     "start_time": "2022-10-25T21:56:57.154080",
     "status": "completed"
    },
    "tags": []
   },
   "source": [
    "As we can see, we need to encode the zip_code & city.\n",
    "Note 1: We could convert zip_code to a 16bit integer value but that could lead to wrong assumptions by the model so adding a dict & encoding seems to be the best solution for now."
   ]
  },
  {
   "cell_type": "code",
   "execution_count": 14,
   "id": "d9c7b4d9",
   "metadata": {
    "execution": {
     "iopub.execute_input": "2022-10-25T21:56:57.198963Z",
     "iopub.status.busy": "2022-10-25T21:56:57.198250Z",
     "iopub.status.idle": "2022-10-25T21:56:57.459962Z",
     "shell.execute_reply": "2022-10-25T21:56:57.457809Z"
    },
    "papermill": {
     "duration": 0.280744,
     "end_time": "2022-10-25T21:56:57.463371",
     "exception": false,
     "start_time": "2022-10-25T21:56:57.182627",
     "status": "completed"
    },
    "tags": []
   },
   "outputs": [
    {
     "name": "stdout",
     "output_type": "stream",
     "text": [
      "Categorical columns: \n",
      "city\n",
      "{'Seattle': 35, 'Renton': 32, 'Bellevue': 3, 'Redmond': 31, 'Issaquah': 16, 'Kirkland': 19, 'Kent': 18, 'Auburn': 1, 'Sammamish': 33, 'Federal Way': 14, 'Shoreline': 36, 'Woodinville': 42, 'Maple Valley': 21, 'Mercer Island': 23, 'Burien': 6, 'Snoqualmie': 38, 'Kenmore': 17, 'Des Moines': 10, 'North Bend': 27, 'Covington': 9, 'Duvall': 11, 'Lake Forest Park': 20, 'Bothell': 5, 'Newcastle': 25, 'SeaTac': 34, 'Tukwila': 40, 'Vashon': 41, 'Enumclaw': 12, 'Carnation': 7, 'Normandy Park': 26, 'Clyde Hill': 8, 'Medina': 22, 'Fall City': 13, 'Black Diamond': 4, 'Ravensdale': 30, 'Pacific': 28, 'Algona': 0, 'Yarrow Point': 43, 'Skykomish': 37, 'Preston': 29, 'Milton': 24, 'Inglewood-Finn Hill': 15, 'Snoqualmie Pass': 39, 'Beaux Arts Village': 2}\n",
      "zip_code\n",
      "{'98103': 47, '98052': 31, '98117': 56, '98115': 54, '98006': 5, '98059': 37, '98042': 26, '98034': 22, '98053': 32, '98074': 42, '98038': 23, '98027': 15, '98023': 13, '98058': 36, '98133': 62, '98125': 60, '98033': 21, '98029': 17, '98155': 67, '98040': 25, '98092': 45, '98056': 34, '98075': 43, '98144': 64, '98118': 57, '98126': 61, '98004': 3, '98065': 38, '98112': 53, '98199': 74, '98028': 16, '98001': 0, '98168': 69, '98106': 49, '98031': 19, '98122': 59, '98116': 55, '98072': 41, '98166': 68, '98107': 50, '98136': 63, '98198': 73, '98146': 65, '98177': 70, '98077': 44, '98045': 27, '98008': 7, '98105': 48, '98119': 58, '98178': 71, '98003': 2, '98108': 51, '98019': 11, '98030': 18, '98007': 6, '98002': 1, '98011': 9, '98109': 52, '98005': 4, '98070': 40, '98022': 12, '98055': 33, '98102': 46, '98188': 72, '98014': 10, '98032': 20, '98148': 66, '98057': 35, '98039': 24, '98024': 14, '98010': 8, '98051': 30, '98047': 28, '98288': 75, '98050': 29, '98354': 76, '98068': 39}\n"
     ]
    }
   ],
   "source": [
    "from sklearn.preprocessing import LabelEncoder\n",
    "print('Categorical columns: ')\n",
    "for col in data.columns:\n",
    "    if data[col].dtype == 'object':\n",
    "        values = data[col].value_counts()\n",
    "        values = dict(values)\n",
    "        \n",
    "        print(str(col))\n",
    "        label = LabelEncoder()\n",
    "        label = label.fit(data[col])\n",
    "        data[col] = label.transform(data[col].astype(str))\n",
    "        \n",
    "        new_values = data[col].value_counts()\n",
    "        new_values = dict(new_values)\n",
    "        \n",
    "        value_dict = {}\n",
    "        i=0\n",
    "        for key in values:\n",
    "            value_dict[key] = list(new_values)[i]\n",
    "            i+= 1\n",
    "        print(value_dict)"
   ]
  },
  {
   "cell_type": "code",
   "execution_count": 15,
   "id": "58063d9c",
   "metadata": {
    "execution": {
     "iopub.execute_input": "2022-10-25T21:56:57.493182Z",
     "iopub.status.busy": "2022-10-25T21:56:57.492761Z",
     "iopub.status.idle": "2022-10-25T21:56:57.516103Z",
     "shell.execute_reply": "2022-10-25T21:56:57.514125Z"
    },
    "papermill": {
     "duration": 0.04511,
     "end_time": "2022-10-25T21:56:57.519273",
     "exception": false,
     "start_time": "2022-10-25T21:56:57.474163",
     "status": "completed"
    },
    "tags": []
   },
   "outputs": [
    {
     "data": {
      "text/html": [
       "<div>\n",
       "<style scoped>\n",
       "    .dataframe tbody tr th:only-of-type {\n",
       "        vertical-align: middle;\n",
       "    }\n",
       "\n",
       "    .dataframe tbody tr th {\n",
       "        vertical-align: top;\n",
       "    }\n",
       "\n",
       "    .dataframe thead th {\n",
       "        text-align: right;\n",
       "    }\n",
       "</style>\n",
       "<table border=\"1\" class=\"dataframe\">\n",
       "  <thead>\n",
       "    <tr style=\"text-align: right;\">\n",
       "      <th></th>\n",
       "      <th>price</th>\n",
       "      <th>bedrooms</th>\n",
       "      <th>bathrooms</th>\n",
       "      <th>sqft_living</th>\n",
       "      <th>sqft_lot</th>\n",
       "      <th>floors</th>\n",
       "      <th>waterfront</th>\n",
       "      <th>view</th>\n",
       "      <th>condition</th>\n",
       "      <th>sqft_above</th>\n",
       "      <th>sqft_basement</th>\n",
       "      <th>yr_built</th>\n",
       "      <th>yr_renovated</th>\n",
       "      <th>city</th>\n",
       "      <th>zip_code</th>\n",
       "    </tr>\n",
       "  </thead>\n",
       "  <tbody>\n",
       "    <tr>\n",
       "      <th>0</th>\n",
       "      <td>313000.0</td>\n",
       "      <td>3</td>\n",
       "      <td>1.50</td>\n",
       "      <td>1340</td>\n",
       "      <td>7912</td>\n",
       "      <td>1.5</td>\n",
       "      <td>0</td>\n",
       "      <td>0</td>\n",
       "      <td>3</td>\n",
       "      <td>1340</td>\n",
       "      <td>0</td>\n",
       "      <td>1955</td>\n",
       "      <td>2005</td>\n",
       "      <td>36</td>\n",
       "      <td>62</td>\n",
       "    </tr>\n",
       "    <tr>\n",
       "      <th>1</th>\n",
       "      <td>2384000.0</td>\n",
       "      <td>5</td>\n",
       "      <td>2.50</td>\n",
       "      <td>3650</td>\n",
       "      <td>9050</td>\n",
       "      <td>2.0</td>\n",
       "      <td>0</td>\n",
       "      <td>4</td>\n",
       "      <td>5</td>\n",
       "      <td>3370</td>\n",
       "      <td>280</td>\n",
       "      <td>1921</td>\n",
       "      <td>0</td>\n",
       "      <td>35</td>\n",
       "      <td>58</td>\n",
       "    </tr>\n",
       "    <tr>\n",
       "      <th>2</th>\n",
       "      <td>342000.0</td>\n",
       "      <td>3</td>\n",
       "      <td>2.00</td>\n",
       "      <td>1930</td>\n",
       "      <td>11947</td>\n",
       "      <td>1.0</td>\n",
       "      <td>0</td>\n",
       "      <td>0</td>\n",
       "      <td>4</td>\n",
       "      <td>1930</td>\n",
       "      <td>0</td>\n",
       "      <td>1966</td>\n",
       "      <td>0</td>\n",
       "      <td>18</td>\n",
       "      <td>26</td>\n",
       "    </tr>\n",
       "    <tr>\n",
       "      <th>3</th>\n",
       "      <td>420000.0</td>\n",
       "      <td>3</td>\n",
       "      <td>2.25</td>\n",
       "      <td>2000</td>\n",
       "      <td>8030</td>\n",
       "      <td>1.0</td>\n",
       "      <td>0</td>\n",
       "      <td>0</td>\n",
       "      <td>4</td>\n",
       "      <td>1000</td>\n",
       "      <td>1000</td>\n",
       "      <td>1963</td>\n",
       "      <td>0</td>\n",
       "      <td>3</td>\n",
       "      <td>7</td>\n",
       "    </tr>\n",
       "    <tr>\n",
       "      <th>4</th>\n",
       "      <td>550000.0</td>\n",
       "      <td>4</td>\n",
       "      <td>2.50</td>\n",
       "      <td>1940</td>\n",
       "      <td>10500</td>\n",
       "      <td>1.0</td>\n",
       "      <td>0</td>\n",
       "      <td>0</td>\n",
       "      <td>4</td>\n",
       "      <td>1140</td>\n",
       "      <td>800</td>\n",
       "      <td>1976</td>\n",
       "      <td>1992</td>\n",
       "      <td>31</td>\n",
       "      <td>31</td>\n",
       "    </tr>\n",
       "  </tbody>\n",
       "</table>\n",
       "</div>"
      ],
      "text/plain": [
       "       price  bedrooms  bathrooms  sqft_living  sqft_lot  floors  waterfront  \\\n",
       "0   313000.0         3       1.50         1340      7912     1.5           0   \n",
       "1  2384000.0         5       2.50         3650      9050     2.0           0   \n",
       "2   342000.0         3       2.00         1930     11947     1.0           0   \n",
       "3   420000.0         3       2.25         2000      8030     1.0           0   \n",
       "4   550000.0         4       2.50         1940     10500     1.0           0   \n",
       "\n",
       "   view  condition  sqft_above  sqft_basement  yr_built  yr_renovated  city  \\\n",
       "0     0          3        1340              0      1955          2005    36   \n",
       "1     4          5        3370            280      1921             0    35   \n",
       "2     0          4        1930              0      1966             0    18   \n",
       "3     0          4        1000           1000      1963             0     3   \n",
       "4     0          4        1140            800      1976          1992    31   \n",
       "\n",
       "   zip_code  \n",
       "0        62  \n",
       "1        58  \n",
       "2        26  \n",
       "3         7  \n",
       "4        31  "
      ]
     },
     "execution_count": 15,
     "metadata": {},
     "output_type": "execute_result"
    }
   ],
   "source": [
    "data.head()"
   ]
  },
  {
   "cell_type": "code",
   "execution_count": 16,
   "id": "e9c7c994",
   "metadata": {
    "execution": {
     "iopub.execute_input": "2022-10-25T21:56:57.544836Z",
     "iopub.status.busy": "2022-10-25T21:56:57.544331Z",
     "iopub.status.idle": "2022-10-25T21:56:57.560709Z",
     "shell.execute_reply": "2022-10-25T21:56:57.558886Z"
    },
    "papermill": {
     "duration": 0.032447,
     "end_time": "2022-10-25T21:56:57.563923",
     "exception": false,
     "start_time": "2022-10-25T21:56:57.531476",
     "status": "completed"
    },
    "tags": []
   },
   "outputs": [
    {
     "data": {
      "text/plain": [
       "price            0\n",
       "bedrooms         0\n",
       "bathrooms        0\n",
       "sqft_living      0\n",
       "sqft_lot         0\n",
       "floors           0\n",
       "waterfront       0\n",
       "view             0\n",
       "condition        0\n",
       "sqft_above       0\n",
       "sqft_basement    0\n",
       "yr_built         0\n",
       "yr_renovated     0\n",
       "city             0\n",
       "zip_code         0\n",
       "dtype: int64"
      ]
     },
     "execution_count": 16,
     "metadata": {},
     "output_type": "execute_result"
    }
   ],
   "source": [
    "data.isna().sum()"
   ]
  },
  {
   "cell_type": "markdown",
   "id": "b6596ce9",
   "metadata": {
    "papermill": {
     "duration": 0.01577,
     "end_time": "2022-10-25T21:56:57.593963",
     "exception": false,
     "start_time": "2022-10-25T21:56:57.578193",
     "status": "completed"
    },
    "tags": []
   },
   "source": [
    "Okay so even after encoding, no non available or duplicates seem to appear so mostly cleaned data."
   ]
  },
  {
   "cell_type": "code",
   "execution_count": 17,
   "id": "20c20d4d",
   "metadata": {
    "execution": {
     "iopub.execute_input": "2022-10-25T21:56:57.623872Z",
     "iopub.status.busy": "2022-10-25T21:56:57.622580Z",
     "iopub.status.idle": "2022-10-25T21:56:57.658964Z",
     "shell.execute_reply": "2022-10-25T21:56:57.656571Z"
    },
    "papermill": {
     "duration": 0.054808,
     "end_time": "2022-10-25T21:56:57.662344",
     "exception": false,
     "start_time": "2022-10-25T21:56:57.607536",
     "status": "completed"
    },
    "tags": []
   },
   "outputs": [
    {
     "data": {
      "text/html": [
       "<div>\n",
       "<style scoped>\n",
       "    .dataframe tbody tr th:only-of-type {\n",
       "        vertical-align: middle;\n",
       "    }\n",
       "\n",
       "    .dataframe tbody tr th {\n",
       "        vertical-align: top;\n",
       "    }\n",
       "\n",
       "    .dataframe thead th {\n",
       "        text-align: right;\n",
       "    }\n",
       "</style>\n",
       "<table border=\"1\" class=\"dataframe\">\n",
       "  <thead>\n",
       "    <tr style=\"text-align: right;\">\n",
       "      <th></th>\n",
       "      <th>price</th>\n",
       "      <th>bedrooms</th>\n",
       "      <th>bathrooms</th>\n",
       "      <th>sqft_living</th>\n",
       "      <th>sqft_lot</th>\n",
       "      <th>floors</th>\n",
       "      <th>waterfront</th>\n",
       "      <th>view</th>\n",
       "      <th>condition</th>\n",
       "      <th>sqft_above</th>\n",
       "      <th>sqft_basement</th>\n",
       "      <th>yr_built</th>\n",
       "      <th>yr_renovated</th>\n",
       "      <th>city</th>\n",
       "      <th>zip_code</th>\n",
       "    </tr>\n",
       "  </thead>\n",
       "  <tbody>\n",
       "    <tr>\n",
       "      <th>0</th>\n",
       "      <td>313000</td>\n",
       "      <td>3</td>\n",
       "      <td>2</td>\n",
       "      <td>1340</td>\n",
       "      <td>7912</td>\n",
       "      <td>2</td>\n",
       "      <td>0</td>\n",
       "      <td>0</td>\n",
       "      <td>3</td>\n",
       "      <td>1340</td>\n",
       "      <td>0</td>\n",
       "      <td>1955</td>\n",
       "      <td>2005</td>\n",
       "      <td>36</td>\n",
       "      <td>62</td>\n",
       "    </tr>\n",
       "    <tr>\n",
       "      <th>1</th>\n",
       "      <td>2384000</td>\n",
       "      <td>5</td>\n",
       "      <td>2</td>\n",
       "      <td>3650</td>\n",
       "      <td>9050</td>\n",
       "      <td>2</td>\n",
       "      <td>0</td>\n",
       "      <td>4</td>\n",
       "      <td>5</td>\n",
       "      <td>3370</td>\n",
       "      <td>280</td>\n",
       "      <td>1921</td>\n",
       "      <td>0</td>\n",
       "      <td>35</td>\n",
       "      <td>58</td>\n",
       "    </tr>\n",
       "    <tr>\n",
       "      <th>2</th>\n",
       "      <td>342000</td>\n",
       "      <td>3</td>\n",
       "      <td>2</td>\n",
       "      <td>1930</td>\n",
       "      <td>11947</td>\n",
       "      <td>1</td>\n",
       "      <td>0</td>\n",
       "      <td>0</td>\n",
       "      <td>4</td>\n",
       "      <td>1930</td>\n",
       "      <td>0</td>\n",
       "      <td>1966</td>\n",
       "      <td>0</td>\n",
       "      <td>18</td>\n",
       "      <td>26</td>\n",
       "    </tr>\n",
       "    <tr>\n",
       "      <th>3</th>\n",
       "      <td>420000</td>\n",
       "      <td>3</td>\n",
       "      <td>2</td>\n",
       "      <td>2000</td>\n",
       "      <td>8030</td>\n",
       "      <td>1</td>\n",
       "      <td>0</td>\n",
       "      <td>0</td>\n",
       "      <td>4</td>\n",
       "      <td>1000</td>\n",
       "      <td>1000</td>\n",
       "      <td>1963</td>\n",
       "      <td>0</td>\n",
       "      <td>3</td>\n",
       "      <td>7</td>\n",
       "    </tr>\n",
       "    <tr>\n",
       "      <th>4</th>\n",
       "      <td>550000</td>\n",
       "      <td>4</td>\n",
       "      <td>2</td>\n",
       "      <td>1940</td>\n",
       "      <td>10500</td>\n",
       "      <td>1</td>\n",
       "      <td>0</td>\n",
       "      <td>0</td>\n",
       "      <td>4</td>\n",
       "      <td>1140</td>\n",
       "      <td>800</td>\n",
       "      <td>1976</td>\n",
       "      <td>1992</td>\n",
       "      <td>31</td>\n",
       "      <td>31</td>\n",
       "    </tr>\n",
       "  </tbody>\n",
       "</table>\n",
       "</div>"
      ],
      "text/plain": [
       "     price  bedrooms  bathrooms  sqft_living  sqft_lot  floors  waterfront  \\\n",
       "0   313000         3          2         1340      7912       2           0   \n",
       "1  2384000         5          2         3650      9050       2           0   \n",
       "2   342000         3          2         1930     11947       1           0   \n",
       "3   420000         3          2         2000      8030       1           0   \n",
       "4   550000         4          2         1940     10500       1           0   \n",
       "\n",
       "   view  condition  sqft_above  sqft_basement  yr_built  yr_renovated  city  \\\n",
       "0     0          3        1340              0      1955          2005    36   \n",
       "1     4          5        3370            280      1921             0    35   \n",
       "2     0          4        1930              0      1966             0    18   \n",
       "3     0          4        1000           1000      1963             0     3   \n",
       "4     0          4        1140            800      1976          1992    31   \n",
       "\n",
       "   zip_code  \n",
       "0        62  \n",
       "1        58  \n",
       "2        26  \n",
       "3         7  \n",
       "4        31  "
      ]
     },
     "execution_count": 17,
     "metadata": {},
     "output_type": "execute_result"
    }
   ],
   "source": [
    "#Rounding up values to get more accurate data later on\n",
    "data = (data.loc[:, ~data.columns.isin(['lat', 'long'])]).round(0).astype(int)\n",
    "data.head(5)"
   ]
  },
  {
   "cell_type": "markdown",
   "id": "35bb8987",
   "metadata": {
    "papermill": {
     "duration": 0.016658,
     "end_time": "2022-10-25T21:56:57.701392",
     "exception": false,
     "start_time": "2022-10-25T21:56:57.684734",
     "status": "completed"
    },
    "tags": []
   },
   "source": [
    "  <font size=\"+2\">**Data Analysis**</font>"
   ]
  },
  {
   "cell_type": "code",
   "execution_count": 18,
   "id": "353c009e",
   "metadata": {
    "execution": {
     "iopub.execute_input": "2022-10-25T21:56:57.741498Z",
     "iopub.status.busy": "2022-10-25T21:56:57.741046Z",
     "iopub.status.idle": "2022-10-25T21:57:09.068424Z",
     "shell.execute_reply": "2022-10-25T21:57:09.066988Z"
    },
    "papermill": {
     "duration": 11.351437,
     "end_time": "2022-10-25T21:57:09.073760",
     "exception": false,
     "start_time": "2022-10-25T21:56:57.722323",
     "status": "completed"
    },
    "tags": []
   },
   "outputs": [
    {
     "data": {
      "image/png": "[encoded data removed]",
      "text/plain": [
       "<Figure size 1440x1800 with 15 Axes>"
      ]
     },
     "metadata": {
      "needs_background": "light"
     },
     "output_type": "display_data"
    }
   ],
   "source": [
    "# Graph each variable's distribution\n",
    "fig = plt.figure(figsize=(20, 25), constrained_layout=True)\n",
    "for i in range(len(data.columns)):\n",
    "    plt.subplot(6, 3, i+1)\n",
    "    sns.histplot(data=data, x=data[data.columns[i]], kde=True)"
   ]
  },
  {
   "cell_type": "markdown",
   "id": "ff54e04d",
   "metadata": {
    "papermill": {
     "duration": 0.013393,
     "end_time": "2022-10-25T21:57:09.101178",
     "exception": false,
     "start_time": "2022-10-25T21:57:09.087785",
     "status": "completed"
    },
    "tags": []
   },
   "source": [
    "With this figure, we can get an approximate estimation to the mean of each feature & therefore know which majority is in which interval.\n",
    "\n",
    "But what we need to know is the correlation of each feature with the price."
   ]
  },
  {
   "cell_type": "markdown",
   "id": "61567a80",
   "metadata": {
    "papermill": {
     "duration": 0.013558,
     "end_time": "2022-10-25T21:57:09.128460",
     "exception": false,
     "start_time": "2022-10-25T21:57:09.114902",
     "status": "completed"
    },
    "tags": []
   },
   "source": [
    "Since the target feature is price, we will correlate all other features to it."
   ]
  },
  {
   "cell_type": "code",
   "execution_count": 19,
   "id": "873734ed",
   "metadata": {
    "execution": {
     "iopub.execute_input": "2022-10-25T21:57:09.159140Z",
     "iopub.status.busy": "2022-10-25T21:57:09.158713Z",
     "iopub.status.idle": "2022-10-25T21:57:09.568126Z",
     "shell.execute_reply": "2022-10-25T21:57:09.566744Z"
    },
    "papermill": {
     "duration": 0.427284,
     "end_time": "2022-10-25T21:57:09.570812",
     "exception": false,
     "start_time": "2022-10-25T21:57:09.143528",
     "status": "completed"
    },
    "tags": []
   },
   "outputs": [
    {
     "data": {
      "image/png": "[encoded data removed]",
      "text/plain": [
       "<Figure size 144x504 with 2 Axes>"
      ]
     },
     "metadata": {
      "needs_background": "light"
     },
     "output_type": "display_data"
    }
   ],
   "source": [
    "# Correlating features with target\n",
    "plt.figure(figsize=(2, 7))\n",
    "heatmap = sns.heatmap(data.corr()[['price']]\n",
    "                      .sort_values(by='price', ascending=False),\n",
    "                      vmin=-1, vmax=1, annot=True, cmap='Blues')"
   ]
  },
  {
   "cell_type": "markdown",
   "id": "3a4627f9",
   "metadata": {
    "papermill": {
     "duration": 0.014109,
     "end_time": "2022-10-25T21:57:09.600226",
     "exception": false,
     "start_time": "2022-10-25T21:57:09.586117",
     "status": "completed"
    },
    "tags": []
   },
   "source": [
    "As we can see, price has its strongest correlations with sqft_living,sqft_above and bathrooms"
   ]
  },
  {
   "cell_type": "code",
   "execution_count": 20,
   "id": "8574087e",
   "metadata": {
    "execution": {
     "iopub.execute_input": "2022-10-25T21:57:09.630978Z",
     "iopub.status.busy": "2022-10-25T21:57:09.630550Z",
     "iopub.status.idle": "2022-10-25T21:57:10.597891Z",
     "shell.execute_reply": "2022-10-25T21:57:10.595913Z"
    },
    "papermill": {
     "duration": 0.986445,
     "end_time": "2022-10-25T21:57:10.601048",
     "exception": false,
     "start_time": "2022-10-25T21:57:09.614603",
     "status": "completed"
    },
    "tags": []
   },
   "outputs": [
    {
     "data": {
      "text/plain": [
       "<seaborn.axisgrid.PairGrid at 0x7ff7b4ee0590>"
      ]
     },
     "execution_count": 20,
     "metadata": {},
     "output_type": "execute_result"
    },
    {
     "data": {
      "image/png": "[encoded data removed]",
      "text/plain": [
       "<Figure size 648x216 with 3 Axes>"
      ]
     },
     "metadata": {
      "needs_background": "light"
     },
     "output_type": "display_data"
    }
   ],
   "source": [
    "# Pairplot variable target with strong correlation variables target -with\n",
    "sns.pairplot(data, x_vars=['sqft_living', 'sqft_above', 'bathrooms'],\n",
    "             y_vars=['price'], height=3, aspect=1)"
   ]
  },
  {
   "cell_type": "markdown",
   "id": "7c62219b",
   "metadata": {
    "papermill": {
     "duration": 0.020817,
     "end_time": "2022-10-25T21:57:10.639897",
     "exception": false,
     "start_time": "2022-10-25T21:57:10.619080",
     "status": "completed"
    },
    "tags": []
   },
   "source": [
    "\n",
    "Based on the pairplot above, we can see that :\n",
    "\n",
    "the higher each variable is, the higher the price is.\n",
    "We can see 2 points that are too far away from the clusters, we can assume those are clusters or VERY particular data."
   ]
  },
  {
   "cell_type": "code",
   "execution_count": 21,
   "id": "bf55021a",
   "metadata": {
    "execution": {
     "iopub.execute_input": "2022-10-25T21:57:10.677662Z",
     "iopub.status.busy": "2022-10-25T21:57:10.677221Z",
     "iopub.status.idle": "2022-10-25T21:57:10.683461Z",
     "shell.execute_reply": "2022-10-25T21:57:10.682463Z"
    },
    "papermill": {
     "duration": 0.027457,
     "end_time": "2022-10-25T21:57:10.686299",
     "exception": false,
     "start_time": "2022-10-25T21:57:10.658842",
     "status": "completed"
    },
    "tags": []
   },
   "outputs": [],
   "source": [
    "# Describe the small amount variable\n",
    "sav = data[(['bedrooms', 'bathrooms', 'floors', 'waterfront', 'view', 'condition'])]"
   ]
  },
  {
   "cell_type": "code",
   "execution_count": 22,
   "id": "26c7a2a2",
   "metadata": {
    "execution": {
     "iopub.execute_input": "2022-10-25T21:57:10.724117Z",
     "iopub.status.busy": "2022-10-25T21:57:10.723646Z",
     "iopub.status.idle": "2022-10-25T21:57:13.342804Z",
     "shell.execute_reply": "2022-10-25T21:57:13.341635Z"
    },
    "papermill": {
     "duration": 2.642126,
     "end_time": "2022-10-25T21:57:13.345402",
     "exception": false,
     "start_time": "2022-10-25T21:57:10.703276",
     "status": "completed"
    },
    "tags": []
   },
   "outputs": [
    {
     "data": {
      "image/png": "[encoded data removed]",
      "text/plain": [
       "<Figure size 1080x720 with 6 Axes>"
      ]
     },
     "metadata": {
      "needs_background": "light"
     },
     "output_type": "display_data"
    }
   ],
   "source": [
    "\n",
    "fig = plt.figure(figsize=(15,10), constrained_layout=True)\n",
    "for i in range(len(sav.columns)):\n",
    "    plt.subplot(3, 3, i+1)\n",
    "    sns.barplot(data=sav, x=sav[sav.columns[i]], y=data['price'])"
   ]
  },
  {
   "cell_type": "markdown",
   "id": "760a91e3",
   "metadata": {
    "papermill": {
     "duration": 0.015841,
     "end_time": "2022-10-25T21:57:13.377483",
     "exception": false,
     "start_time": "2022-10-25T21:57:13.361642",
     "status": "completed"
    },
    "tags": []
   },
   "source": [
    "What we can take away from this are 2 things: \n",
    "The 0 bedroom places's value must be the occurance of a lot of outliers since no way a 0 bedroom home is higher praced than a 7-8 one.\n",
    "Bathroom value seems accurate except for 2 things, the 0 bathroom value is too hight as well as the 7 one, we will be checking for outliers for that one too.\n",
    "The rest seems fine."
   ]
  },
  {
   "cell_type": "markdown",
   "id": "1a35339b",
   "metadata": {
    "papermill": {
     "duration": 0.0147,
     "end_time": "2022-10-25T21:57:13.407483",
     "exception": false,
     "start_time": "2022-10-25T21:57:13.392783",
     "status": "completed"
    },
    "tags": []
   },
   "source": [
    "**Outlier Detection**"
   ]
  },
  {
   "cell_type": "code",
   "execution_count": 23,
   "id": "e4c3c52a",
   "metadata": {
    "execution": {
     "iopub.execute_input": "2022-10-25T21:57:13.439665Z",
     "iopub.status.busy": "2022-10-25T21:57:13.439262Z",
     "iopub.status.idle": "2022-10-25T21:57:13.445785Z",
     "shell.execute_reply": "2022-10-25T21:57:13.444455Z"
    },
    "papermill": {
     "duration": 0.025708,
     "end_time": "2022-10-25T21:57:13.448261",
     "exception": false,
     "start_time": "2022-10-25T21:57:13.422553",
     "status": "completed"
    },
    "tags": []
   },
   "outputs": [],
   "source": [
    "df1=data.drop([\"price\"],axis=1)"
   ]
  },
  {
   "cell_type": "code",
   "execution_count": 24,
   "id": "dde3704b",
   "metadata": {
    "execution": {
     "iopub.execute_input": "2022-10-25T21:57:13.481561Z",
     "iopub.status.busy": "2022-10-25T21:57:13.481171Z",
     "iopub.status.idle": "2022-10-25T21:57:13.954651Z",
     "shell.execute_reply": "2022-10-25T21:57:13.953276Z"
    },
    "papermill": {
     "duration": 0.492985,
     "end_time": "2022-10-25T21:57:13.957400",
     "exception": false,
     "start_time": "2022-10-25T21:57:13.464415",
     "status": "completed"
    },
    "tags": []
   },
   "outputs": [
    {
     "data": {
      "text/plain": [
       "<AxesSubplot:>"
      ]
     },
     "execution_count": 24,
     "metadata": {},
     "output_type": "execute_result"
    },
    {
     "data": {
      "image/png": "[encoded data removed]",
      "text/plain": [
       "<Figure size 432x288 with 1 Axes>"
      ]
     },
     "metadata": {
      "needs_background": "light"
     },
     "output_type": "display_data"
    }
   ],
   "source": [
    "# Outlier detection\n",
    "df1.boxplot(grid=True, rot=90, fontsize=13)"
   ]
  }
 ],
 "metadata": {
  "kernelspec": {
   "display_name": "Python 3",
   "language": "python",
   "name": "python3"
  },
  "language_info": {
   "codemirror_mode": {
    "name": "ipython",
    "version": 3
   },
   "file_extension": ".py",
   "mimetype": "text/x-python",
   "name": "python",
   "nbconvert_exporter": "python",
   "pygments_lexer": "ipython3",
   "version": "3.7.12"
  },
  "papermill": {
   "default_parameters": {},
   "duration": 32.885967,
   "end_time": "2022-10-25T21:57:15.199740",
   "environment_variables": {},
   "exception": null,
   "input_path": "__notebook__.ipynb",
   "output_path": "__notebook__.ipynb",
   "parameters": {},
   "start_time": "2022-10-25T21:56:42.313773",
   "version": "2.3.4"
  }
 },
 "nbformat": 4,
 "nbformat_minor": 5
}
